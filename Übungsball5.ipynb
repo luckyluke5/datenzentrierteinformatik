{
  "nbformat": 4,
  "nbformat_minor": 0,
  "metadata": {
    "colab": {
      "name": "Übungsball5.ipynb",
      "provenance": [],
      "include_colab_link": true
    },
    "kernelspec": {
      "name": "python3",
      "display_name": "Python 3"
    }
  },
  "cells": [
    {
      "cell_type": "markdown",
      "metadata": {
        "id": "view-in-github",
        "colab_type": "text"
      },
      "source": [
        "<a href=\"https://colab.research.google.com/github/luckyluke5/datenzentrierteinformatik/blob/main/%C3%9Cbungsball5.ipynb\" target=\"_parent\"><img src=\"https://colab.research.google.com/assets/colab-badge.svg\" alt=\"Open In Colab\"/></a>"
      ]
    },
    {
      "cell_type": "markdown",
      "metadata": {
        "id": "QhCeiduJn_Tc"
      },
      "source": [
        "# Aufgabe 5."
      ]
    },
    {
      "cell_type": "code",
      "metadata": {
        "id": "MsEp9KzgnweU"
      },
      "source": [
        "import numpy as np\n",
        "from sklearn.datasets import load_wine\n",
        "\n",
        "wine =load_wine()\n",
        "matX = wine['data']\n",
        "vecY = wine['target']"
      ],
      "execution_count": null,
      "outputs": []
    },
    {
      "cell_type": "code",
      "metadata": {
        "id": "KeOI2SmnpoaV"
      },
      "source": [
        "from sklearn.model_selection import train_test_split"
      ],
      "execution_count": null,
      "outputs": []
    },
    {
      "cell_type": "code",
      "metadata": {
        "id": "CTHS6JV_p7Dy"
      },
      "source": [
        "from sklearn.tree import DecisionTreeClassifier"
      ],
      "execution_count": null,
      "outputs": []
    },
    {
      "cell_type": "code",
      "metadata": {
        "id": "NYYFdIHAq_1I"
      },
      "source": [
        "def computeAccuracy() -> float:\n",
        "    Xtrn, Xtst, ytrn, ytst = train_test_split(matX, vecY, test_size=0.3)\n",
        "\n",
        "    dTree = DecisionTreeClassifier(max_depth=3, criterion='gini')\n",
        "    dTree.fit(Xtrn, ytrn)\n",
        "    pred = dTree.predict(Xtst)\n",
        "    accu = dTree.score(Xtst, ytst)\n",
        "\n",
        "    return accu"
      ],
      "execution_count": null,
      "outputs": []
    },
    {
      "cell_type": "code",
      "metadata": {
        "colab": {
          "base_uri": "https://localhost:8080/"
        },
        "id": "wWuIQ7hzsK2B",
        "outputId": "c3747d55-9dc9-4815-c6cb-9cb93698bd84"
      },
      "source": [
        "import statistics\n",
        "\n",
        "statistics.mean([computeAccuracy() for i in range(10)])"
      ],
      "execution_count": null,
      "outputs": [
        {
          "output_type": "execute_result",
          "data": {
            "text/plain": [
              "0.9018518518518519"
            ]
          },
          "metadata": {
            "tags": []
          },
          "execution_count": 17
        }
      ]
    },
    {
      "cell_type": "markdown",
      "metadata": {
        "id": "QC85Aitsn375"
      },
      "source": [
        "# Aufgabe 5.2"
      ]
    },
    {
      "cell_type": "code",
      "metadata": {
        "id": "TRmxg_LAtDgX"
      },
      "source": [
        ""
      ],
      "execution_count": null,
      "outputs": []
    }
  ]
}