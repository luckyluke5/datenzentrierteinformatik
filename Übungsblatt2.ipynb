{
  "nbformat": 4,
  "nbformat_minor": 0,
  "metadata": {
    "colab": {
      "name": "Übungsblatt2.ipynb",
      "provenance": [],
      "collapsed_sections": [],
      "toc_visible": true,
      "include_colab_link": true
    },
    "kernelspec": {
      "name": "python3",
      "display_name": "Python 3"
    }
  },
  "cells": [
    {
      "cell_type": "markdown",
      "metadata": {
        "id": "view-in-github",
        "colab_type": "text"
      },
      "source": [
        "<a href=\"https://colab.research.google.com/github/luckyluke5/datenzentrierteinformatik/blob/main/%C3%9Cbungsblatt2.ipynb\" target=\"_parent\"><img src=\"https://colab.research.google.com/assets/colab-badge.svg\" alt=\"Open In Colab\"/></a>"
      ]
    },
    {
      "cell_type": "markdown",
      "metadata": {
        "id": "wcKfz-4_I-ks"
      },
      "source": [
        "#Aufgabe 2.1"
      ]
    },
    {
      "cell_type": "code",
      "metadata": {
        "id": "i-sblyMa9pp7",
        "colab": {
          "base_uri": "https://localhost:8080/",
          "height": 299
        },
        "outputId": "b5986af8-f7fb-4500-fcf4-98acd23a5832"
      },
      "source": [
        "import numpy as np\n",
        "import matplotlib.pyplot as plt\n",
        "import numpy.linalg as la\n",
        "import pandas as pd\n",
        "import scipy.optimize as opt\n",
        "import datetime \n",
        "\n",
        "name = \"/content/whData.dat\"\n",
        "data = np.loadtxt(name, dtype=np.object, comments='#', delimiter=None)\n",
        "y = data[:,0].astype(float)\n",
        "x = data[:,1].astype(float)\n",
        "\n",
        "b=y!=-1\n",
        "new_x=x[b]\n",
        "new_y=y[b]\n",
        "\n",
        "matF = np.vstack((np.ones_like(new_x),new_x))\n",
        "vecF = la.lstsq(matF.T, new_y, rcond=None)[0]\n",
        "\n",
        "def f(x):\n",
        "  return vecF[0]+vecF[1]*x\n",
        "\n",
        "matG = np.vstack((np.ones_like(new_x),new_x,(new_x)**2,(new_x)**3))\n",
        "vecG = la.lstsq(matG.T,new_y, rcond=None)[0]\n",
        "\n",
        "def g(x):\n",
        "  return vecG[0]+vecG[1]*x+vecG[2]*x**2+vecG[3]*x**3\n",
        "\n",
        "\n",
        "\n",
        "v=np.array(range(150,210,1))\n",
        "plt.plot(new_x,new_y, 'bo', ms=1.5)\n",
        "plt.plot(v, f(v), 'r', linewidth=0.5)\n",
        "plt.plot(v, g(v), 'g', linewidth=0.5)\n",
        "\n",
        "print('Linear:',vecF,'\\n''Kubisch:',vecG)"
      ],
      "execution_count": null,
      "outputs": [
        {
          "output_type": "stream",
          "text": [
            "Linear: [-75.52764704   0.85012657] \n",
            "Kubisch: [-3.01909930e+03  4.50291300e+01 -2.15973486e-01  3.41305556e-04]\n"
          ],
          "name": "stdout"
        },
        {
          "output_type": "display_data",
          "data": {
            "image/png": "[encoded data removed]",
            "text/plain": [
              "<Figure size 432x288 with 1 Axes>"
            ]
          },
          "metadata": {
            "tags": [],
            "needs_background": "light"
          }
        }
      ]
    },
    {
      "cell_type": "markdown",
      "metadata": {
        "id": "SlfzfCkdT4-x"
      },
      "source": [
        "#Aufgabe 2.2"
      ]
    },
    {
      "cell_type": "code",
      "metadata": {
        "colab": {
          "base_uri": "https://localhost:8080/",
          "height": 299
        },
        "id": "QidvF-OTOH3-",
        "outputId": "22235f4f-fcff-45e6-cd01-1a103f5a7286"
      },
      "source": [
        "matF = np.vstack((np.ones_like(x),x))\n",
        "vecF = la.lstsq(matF.T, y, rcond=None)[0]\n",
        "\n",
        "def f(x):\n",
        "  return vecF[0]+vecF[1]*x\n",
        "\n",
        "matG = np.vstack((np.ones_like(x),x,(x)**2,(x)**3))\n",
        "vecG = la.lstsq(matG.T,y, rcond=None)[0]\n",
        "\n",
        "def g(x):\n",
        "  return vecG[0]+vecG[1]*x+vecG[2]*x**2+vecG[3]*x**3\n",
        "\n",
        "\n",
        "\n",
        "v=np.array(range(150,210,1))\n",
        "plt.plot(x,y, 'bo', ms=1.5)\n",
        "plt.plot(v, f(v), 'r', linewidth=0.5)\n",
        "plt.plot(v, g(v), 'g', linewidth=0.5)\n",
        "\n",
        "print('Linear:',vecF,'\\n''Kubisch:',vecG)"
      ],
      "execution_count": null,
      "outputs": [
        {
          "output_type": "stream",
          "text": [
            "Linear: [-14.27055504   0.47874642] \n",
            "Kubisch: [-1.81026630e+04  3.04874779e+02 -1.70323134e+00  3.16898117e-03]\n"
          ],
          "name": "stdout"
        },
        {
          "output_type": "display_data",
          "data": {
            "image/png": "[encoded data removed]",
            "text/plain": [
              "<Figure size 432x288 with 1 Axes>"
            ]
          },
          "metadata": {
            "tags": [],
            "needs_background": "light"
          }
        }
      ]
    },
    {
      "cell_type": "markdown",
      "metadata": {
        "id": "nyPpKD3tbYcJ"
      },
      "source": [
        "#Aufgabe 2.3"
      ]
    },
    {
      "cell_type": "code",
      "metadata": {
        "colab": {
          "base_uri": "https://localhost:8080/"
        },
        "id": "n7STQvlqWNKf",
        "outputId": "c0637851-6d54-426b-9df0-91c5652d26c0"
      },
      "source": [
        "csv = \"/content/time_series_covid19_confirmed_global.csv\"\n",
        "dataset = pd.read_csv(csv)\n",
        "row=dataset[dataset['Country/Region']=='Germany']\n",
        "Ivalues=row.iloc[:,9:87].to_numpy()[0]\n"
      ],
      "execution_count": null,
      "outputs": [
        {
          "output_type": "execute_result",
          "data": {
            "text/plain": [
              "array([     1,      4,      4,      4,      5,      8,     10,     12,\n",
              "           12,     12,     12,     13,     13,     14,     14,     16,\n",
              "           16,     16,     16,     16,     16,     16,     16,     16,\n",
              "           16,     16,     16,     16,     16,     17,     27,     46,\n",
              "           48,     79,    130,    159,    196,    262,    482,    670,\n",
              "          799,   1040,   1176,   1457,   1908,   2078,   3675,   4585,\n",
              "         5795,   7272,   9257,  12327,  15320,  19848,  22213,  24873,\n",
              "        29056,  32986,  37323,  43938,  50871,  57695,  62095,  66885,\n",
              "        71808,  77872,  84794,  91159,  96092, 100123, 103374, 107663,\n",
              "       113296, 118181, 122171, 124908, 127854, 130072])"
            ]
          },
          "metadata": {
            "tags": []
          },
          "execution_count": 96
        }
      ]
    },
    {
      "cell_type": "code",
      "metadata": {
        "colab": {
          "base_uri": "https://localhost:8080/",
          "height": 282
        },
        "id": "y0a7AtymUQnR",
        "outputId": "3274451e-4ce6-41cb-fc6a-6d9095324d2d"
      },
      "source": [
        "\n",
        "\n",
        "\n",
        "def gompertzFct(x, N, r, t0):\n",
        "  return N * np.exp(-np.exp(-r * (x-t0)))\n",
        "\n",
        "t_trn = np.array(range(len(Ivalues)))\n",
        "\n",
        "\n",
        "guess = (100000., .1, 50.)\n",
        "parameters, covariance = opt.curve_fit(gompertzFct, t_trn, Ivalues, p0=guess)\n",
        "\n",
        "plt.plot(t_trn, I_trn, 'or', ms=5)\n",
        "\n",
        "I = gompertzFct(t_trn, *parameters)\n",
        "\n",
        "plt.plot(t_trn, I, 'b', ms=1)\n"
      ],
      "execution_count": null,
      "outputs": [
        {
          "output_type": "execute_result",
          "data": {
            "text/plain": [
              "[<matplotlib.lines.Line2D at 0x7f308fedfe80>]"
            ]
          },
          "metadata": {
            "tags": []
          },
          "execution_count": 110
        },
        {
          "output_type": "display_data",
          "data": {
            "image/png": "[encoded data removed]",
            "text/plain": [
              "<Figure size 432x288 with 1 Axes>"
            ]
          },
          "metadata": {
            "tags": [],
            "needs_background": "light"
          }
        }
      ]
    },
    {
      "cell_type": "code",
      "metadata": {
        "colab": {
          "base_uri": "https://localhost:8080/",
          "height": 282
        },
        "id": "nWtDI6ufqxMR",
        "outputId": "dfd5789e-b9ac-4dc4-fc81-d72dd20f6ef7"
      },
      "source": [
        "Ivalues_extend = row.iloc[:,9:87+76+2].to_numpy()[0]\n",
        "t_trn_extend = np.array(range(len(Ivalues_extend)))\n",
        "\n",
        "plt.plot(t_trn_extend, Ivalues_extend, 'or', ms=1.5)\n",
        "\n",
        "I = gompertzFct(t_trn_extend, *parameters)\n",
        "\n",
        "plt.plot(t_trn_extend, I, 'b', ms=1)\n"
      ],
      "execution_count": null,
      "outputs": [
        {
          "output_type": "execute_result",
          "data": {
            "text/plain": [
              "[<matplotlib.lines.Line2D at 0x7f308f9b72e8>]"
            ]
          },
          "metadata": {
            "tags": []
          },
          "execution_count": 119
        },
        {
          "output_type": "display_data",
          "data": {
            "image/png": "[encoded data removed]",
            "text/plain": [
              "<Figure size 432x288 with 1 Axes>"
            ]
          },
          "metadata": {
            "tags": [],
            "needs_background": "light"
          }
        }
      ]
    }
  ]
}